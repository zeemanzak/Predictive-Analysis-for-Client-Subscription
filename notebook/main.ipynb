{
 "cells": [
  {
   "cell_type": "markdown",
   "metadata": {},
   "source": [
    "##  *Client Subscription Prediction*"
   ]
  },
  {
   "cell_type": "markdown",
   "metadata": {},
   "source": [
    "## Business Understanding \n",
    "##### *Problem Statement*\n",
    "\n",
    "The goal is to improve the success rate of direct marketing campaigns by identifying factors that influence a client's decision to subscribe to a term deposit. This involves understanding client demographics, campaign characteristics, and historical engagement.\n",
    "\n",
    "##### *Business Objective*\n",
    "\n",
    "Increase Conversion Rates: Identify clients more likely to subscribe to a term deposit to optimize marketing efforts.\n",
    "\n",
    "Resource Allocation: Minimize unnecessary calls to unlikely prospects, reducing costs.\n",
    "\n",
    "Customer Insights: Gain a deeper understanding of client profiles and preferences for future campaigns.\n",
    "\n",
    "##### *Key Business Questions*\n",
    "\n",
    "1. Which client demographics (e.g., age, job, marital status, education) are associated with a higher likelihood of subscribing to a term deposit?\n",
    "\n",
    "2. How do campaign-related factors (e.g., number of calls, duration of contact) impact conversion?\n",
    "3. What role does previous engagement and its outcome play in current campaign success?\n",
    "4. Can we predict the likelihood of subscription   based on client and campaign data?\n",
    "\n",
    "#### *Hypothesis Statement*:\n",
    "#### H₀ (Null Hypothesis):\n",
    "Client characteristics (e.g., age, job, marital status, education), financial details, and campaign attributes do not significantly influence the likelihood of subscribing to a term deposit.\n",
    "\n",
    "#### H₁ (Alternative Hypothesis):\n",
    "Client characteristics, financial details, and campaign attributes significantly influence the likelihood of subscribing to a term deposit."
   ]
  },
  {
   "cell_type": "markdown",
   "metadata": {},
   "source": [
    "## *Data Understanding*"
   ]
  },
  {
   "cell_type": "markdown",
   "metadata": {},
   "source": [
    "### *Key Features*\n",
    "\n",
    "##### *Client Demographics:*\n",
    "\n",
    "##### Age (numeric): \n",
    "Provides insights into the age distribution of subscribers.\n",
    "Job (categorical): Employment type may influence financial behavior.\n",
    "Marital Status (categorical): Indicates household financial decisions.\n",
    "Education Level (categorical): Reflects financial literacy and potential income levels.\n",
    "\n",
    "#### Financial Information:\n",
    "\n",
    "Default (binary): Indicates credit risk.\n",
    "Balance (numeric): Average yearly balance offers a financial capability metric.\n",
    "Housing Loan and Personal Loan (binary): Reflects current financial obligations.\n",
    "\n",
    "#### Campaign Details:\n",
    "\n",
    "Contact Method (categorical): Effectiveness of communication channels.\n",
    "Day and Month of Contact: Timing trends for successful engagements.\n",
    "Duration of Last Contact: Directly correlated with success (as longer calls often indicate interest).\n",
    "Number of Contacts in Campaign (numeric): May indicate persistence levels.\n",
    "\n",
    "#### Historical Campaign Data:\n",
    "\n",
    "Days Since Last Contact (pdays): Recency of prior engagements.\n",
    "Previous Contacts (previous): Frequency of earlier interactions.\n",
    "Outcome of Previous Campaign (poutcome): Past success or failure trends.\n",
    "\n",
    "#### Target Variable:\n",
    "\n",
    "y (binary): Indicates whether the client subscribed to the term deposit (yes or no).\n"
   ]
  },
  {
   "cell_type": "markdown",
   "metadata": {},
   "source": [
    "#### *Success Criteria*  \n",
    "A Predictive model with high accuracy, precision and recall for identifying potential Subscriber "
   ]
  },
  {
   "cell_type": "markdown",
   "metadata": {},
   "source": [
    "###  Import Libraries"
   ]
  },
  {
   "cell_type": "code",
   "execution_count": 1,
   "metadata": {},
   "outputs": [],
   "source": [
    "#data manipulation libraries\n",
    "import pandas as pd\n",
    "import numpy as np \n",
    "\n",
    "#data visualization libraries \n",
    "import matplotlib.pyplot as plt\n",
    "import seaborn as sns \n",
    "\n",
    "#statistics libraries \n",
    "from scipy import stats\n",
    "import statistics as stat\n",
    "from scipy.stats import chi2_contingency,mannwhitneyu\n",
    "\n",
    "#machine learning libraries \n",
    "from sklearn.model_selection import train_test_split\n",
    "from sklearn.preprocessing import StandardScaler,LabelEncoder,RobustScaler,OneHotEncoder,FunctionTransformer,PowerTransformer\n",
    "from sklearn.pipeline import Pipeline\n",
    "from sklearn.compose import ColumnTransformer\n",
    "from sklearn.impute import SimpleImputer\n",
    "from sklearn.linear_model import LogisticRegression\n",
    "from sklearn.tree import DecisionTreeClassifier\n",
    "from sklearn.ensemble import RandomForestClassifier\n",
    "from sklearn.neighbors import KNeighborsClassifier\n",
    "from sklearn.svm import SVC\n",
    "from sklearn.model_selection import GridSearchCV,StratifiedKFold\n",
    "from sklearn.metrics import classification_report, confusion_matrix\n",
    "from imblearn.over_sampling import RandomOverSampler\n",
    "from imblearn.over_sampling import SMOTE, RandomOverSampler\n",
    "from imblearn.pipeline import Pipeline as imbPipeline\n",
    "from sklearn.feature_selection import SelectKBest ,mutual_info_classif\n",
    "from sklearn.metrics import auc,roc_curve\n",
    "\n",
    "import joblib \n",
    "import os\n",
    "\n",
    "\n",
    "# hide warning\n",
    "import warnings\n",
    "warnings.filterwarnings('ignore')\n",
    "\n"
   ]
  },
  {
   "cell_type": "code",
   "execution_count": null,
   "metadata": {},
   "outputs": [],
   "source": [
    "# Load dataset\n",
    "train_df = pd.read_csv('C:/Users/HP-PC/OneDrive - Azubi Africa/my azubi africa career accelerator projects/Predictive-Analysis-for-Client-Subscription/Data/bank-full.csv')\n",
    "train_df \n"
   ]
  }
 ],
 "metadata": {
  "kernelspec": {
   "display_name": "venv",
   "language": "python",
   "name": "python3"
  },
  "language_info": {
   "codemirror_mode": {
    "name": "ipython",
    "version": 3
   },
   "file_extension": ".py",
   "mimetype": "text/x-python",
   "name": "python",
   "nbconvert_exporter": "python",
   "pygments_lexer": "ipython3",
   "version": "3.11.9"
  }
 },
 "nbformat": 4,
 "nbformat_minor": 2
}
